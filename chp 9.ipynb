{
 "cells": [
  {
   "cell_type": "code",
   "execution_count": 8,
   "id": "cd33fe62",
   "metadata": {},
   "outputs": [
    {
     "name": "stdout",
     "output_type": "stream",
     "text": [
      "{'money': 12, 'candy': 3, 'tissu': 75}\n"
     ]
    }
   ],
   "source": [
    "    jjj = { 'chuck' : 1 , 'fred' : 42, 'jan': 100} >>> print(jjj) purse = dict() \n",
    "    purse['money'] = 12 \n",
    "    purse['candy'] = 3 \n",
    "    purse['tissu'] = 75\n",
    "    print(purse)"
   ]
  },
  {
   "cell_type": "code",
   "execution_count": 2,
   "id": "afcc409d",
   "metadata": {},
   "outputs": [
    {
     "name": "stdout",
     "output_type": "stream",
     "text": [
      "[21, 183]\n"
     ]
    }
   ],
   "source": [
    "lst = list() \n",
    "lst.append(21) \n",
    "lst.append(183) \n",
    "print(lst) "
   ]
  },
  {
   "cell_type": "code",
   "execution_count": 7,
   "id": "6a2cccfa",
   "metadata": {},
   "outputs": [
    {
     "name": "stdout",
     "output_type": "stream",
     "text": [
      "{'age': 21, 'course': 182}\n"
     ]
    }
   ],
   "source": [
    "ddd = dict() \n",
    "ddd['age'] = 21 \n",
    "ddd['course'] = 182 \n",
    "print(ddd)"
   ]
  },
  {
   "cell_type": "code",
   "execution_count": 9,
   "id": "1da10ea8",
   "metadata": {},
   "outputs": [
    {
     "name": "stdout",
     "output_type": "stream",
     "text": [
      "{'chuck': 1, 'fred': 42, 'jan': 100}\n"
     ]
    }
   ],
   "source": [
    "jjj = { 'chuck' : 1 , 'fred' : 42, 'jan': 100} \n",
    "print(jjj) "
   ]
  },
  {
   "cell_type": "code",
   "execution_count": 10,
   "id": "ddb5b468",
   "metadata": {},
   "outputs": [
    {
     "name": "stdout",
     "output_type": "stream",
     "text": [
      "{'csev': 1, 'cwen': 1}\n"
     ]
    }
   ],
   "source": [
    "ccc = dict() \n",
    "ccc['csev'] = 1 \n",
    "ccc['cwen'] = 1 \n",
    "print(ccc) "
   ]
  },
  {
   "cell_type": "code",
   "execution_count": 1,
   "id": "2c98b6dd",
   "metadata": {},
   "outputs": [
    {
     "name": "stdout",
     "output_type": "stream",
     "text": [
      "{'csev': 2, 'cwen': 2, 'zqian': 1}\n"
     ]
    }
   ],
   "source": [
    "counts = dict() \n",
    "names = ['csev', 'cwen', 'csev', 'zqian', 'cwen'] \n",
    "for name in names :\n",
    "    if name not in counts:\n",
    "        counts[name] = 1 \n",
    "    else :\n",
    "        counts[name] = counts[name] + 1\n",
    "print(counts)\n"
   ]
  },
  {
   "cell_type": "code",
   "execution_count": null,
   "id": "3d068da5",
   "metadata": {},
   "outputs": [],
   "source": []
  }
 ],
 "metadata": {
  "kernelspec": {
   "display_name": "Python 3 (ipykernel)",
   "language": "python",
   "name": "python3"
  },
  "language_info": {
   "codemirror_mode": {
    "name": "ipython",
    "version": 3
   },
   "file_extension": ".py",
   "mimetype": "text/x-python",
   "name": "python",
   "nbconvert_exporter": "python",
   "pygments_lexer": "ipython3",
   "version": "3.11.4"
  }
 },
 "nbformat": 4,
 "nbformat_minor": 5
}
