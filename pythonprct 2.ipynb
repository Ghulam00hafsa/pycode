{
 "cells": [
  {
   "cell_type": "code",
   "execution_count": 1,
   "id": "9bac9657",
   "metadata": {},
   "outputs": [
    {
     "name": "stdout",
     "output_type": "stream",
     "text": [
      "5\n"
     ]
    }
   ],
   "source": [
    "addd= 1 + 4\n",
    "print(addd)"
   ]
  },
  {
   "cell_type": "code",
   "execution_count": 2,
   "id": "f80b83cf",
   "metadata": {},
   "outputs": [
    {
     "name": "stdout",
     "output_type": "stream",
     "text": [
      "hellothere\n"
     ]
    }
   ],
   "source": [
    "eee ='hello' + 'there'\n",
    "print(eee)"
   ]
  },
  {
   "cell_type": "code",
   "execution_count": 3,
   "id": "a0016443",
   "metadata": {},
   "outputs": [
    {
     "name": "stdout",
     "output_type": "stream",
     "text": [
      "t\n"
     ]
    }
   ],
   "source": [
    "big= max('pakistan')\n",
    "print(big)"
   ]
  },
  {
   "cell_type": "code",
   "execution_count": 4,
   "id": "3f7ee301",
   "metadata": {},
   "outputs": [
    {
     "name": "stdout",
     "output_type": "stream",
     "text": [
      "42.0\n"
     ]
    }
   ],
   "source": [
    "i=42\n",
    "type(i)\n",
    "f= float(i)\n",
    "print(f)"
   ]
  },
  {
   "cell_type": "code",
   "execution_count": 5,
   "id": "7ceb0501",
   "metadata": {},
   "outputs": [
    {
     "name": "stdout",
     "output_type": "stream",
     "text": [
      "IT 511\n"
     ]
    }
   ],
   "source": [
    "X=5\n",
    "print('IT 511')"
   ]
  },
  {
   "cell_type": "code",
   "execution_count": 6,
   "id": "638d58df",
   "metadata": {},
   "outputs": [
    {
     "name": "stdout",
     "output_type": "stream",
     "text": [
      "5\n"
     ]
    }
   ],
   "source": [
    "x=5\n",
    "print(x)"
   ]
  },
  {
   "cell_type": "code",
   "execution_count": null,
   "id": "36d033a8",
   "metadata": {},
   "outputs": [],
   "source": []
  }
 ],
 "metadata": {
  "kernelspec": {
   "display_name": "Python 3 (ipykernel)",
   "language": "python",
   "name": "python3"
  },
  "language_info": {
   "codemirror_mode": {
    "name": "ipython",
    "version": 3
   },
   "file_extension": ".py",
   "mimetype": "text/x-python",
   "name": "python",
   "nbconvert_exporter": "python",
   "pygments_lexer": "ipython3",
   "version": "3.11.4"
  }
 },
 "nbformat": 4,
 "nbformat_minor": 5
}
