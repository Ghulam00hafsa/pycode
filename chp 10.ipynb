{
 "cells": [
  {
   "cell_type": "code",
   "execution_count": 2,
   "id": "a10acc01",
   "metadata": {},
   "outputs": [
    {
     "name": "stdout",
     "output_type": "stream",
     "text": [
      "Joseph\n"
     ]
    }
   ],
   "source": [
    " x = ('Glenn', 'Sally', 'Joseph') \n",
    "print(x[2]) "
   ]
  },
  {
   "cell_type": "code",
   "execution_count": 4,
   "id": "8e8b3b21",
   "metadata": {},
   "outputs": [
    {
     "name": "stdout",
     "output_type": "stream",
     "text": [
      "(1, 9, 2)\n",
      "9\n"
     ]
    }
   ],
   "source": [
    " y = ( 1, 9, 2 ) \n",
    "print(y)\n",
    " print(max(y)) "
   ]
  },
  {
   "cell_type": "code",
   "execution_count": 6,
   "id": "d1414f64",
   "metadata": {},
   "outputs": [
    {
     "name": "stdout",
     "output_type": "stream",
     "text": [
      "[9, 8, 6]\n"
     ]
    }
   ],
   "source": [
    " x = [9, 8, 7] \n",
    "x[2] = 6 \n",
    " print(x)"
   ]
  },
  {
   "cell_type": "code",
   "execution_count": 10,
   "id": "5ad0af82",
   "metadata": {},
   "outputs": [
    {
     "data": {
      "text/plain": [
       "['__add__',\n",
       " '__class__',\n",
       " '__class_getitem__',\n",
       " '__contains__',\n",
       " '__delattr__',\n",
       " '__delitem__',\n",
       " '__dir__',\n",
       " '__doc__',\n",
       " '__eq__',\n",
       " '__format__',\n",
       " '__ge__',\n",
       " '__getattribute__',\n",
       " '__getitem__',\n",
       " '__getstate__',\n",
       " '__gt__',\n",
       " '__hash__',\n",
       " '__iadd__',\n",
       " '__imul__',\n",
       " '__init__',\n",
       " '__init_subclass__',\n",
       " '__iter__',\n",
       " '__le__',\n",
       " '__len__',\n",
       " '__lt__',\n",
       " '__mul__',\n",
       " '__ne__',\n",
       " '__new__',\n",
       " '__reduce__',\n",
       " '__reduce_ex__',\n",
       " '__repr__',\n",
       " '__reversed__',\n",
       " '__rmul__',\n",
       " '__setattr__',\n",
       " '__setitem__',\n",
       " '__sizeof__',\n",
       " '__str__',\n",
       " '__subclasshook__',\n",
       " 'append',\n",
       " 'clear',\n",
       " 'copy',\n",
       " 'count',\n",
       " 'extend',\n",
       " 'index',\n",
       " 'insert',\n",
       " 'pop',\n",
       " 'remove',\n",
       " 'reverse',\n",
       " 'sort']"
      ]
     },
     "execution_count": 10,
     "metadata": {},
     "output_type": "execute_result"
    }
   ],
   "source": [
    "l = list()\n",
    "dir(l) "
   ]
  },
  {
   "cell_type": "code",
   "execution_count": 11,
   "id": "d8606334",
   "metadata": {},
   "outputs": [
    {
     "name": "stdout",
     "output_type": "stream",
     "text": [
      "fred\n"
     ]
    }
   ],
   "source": [
    "(x, y) = (4, 'fred') \n",
    "print(y) "
   ]
  },
  {
   "cell_type": "code",
   "execution_count": 13,
   "id": "fab0d90d",
   "metadata": {},
   "outputs": [
    {
     "name": "stdout",
     "output_type": "stream",
     "text": [
      "csev 2\n",
      "cwen 4\n"
     ]
    }
   ],
   "source": [
    "d = dict() \n",
    "d['csev'] = 2 \n",
    "d['cwen'] = 4 \n",
    "for (k,v) in d.items(): \n",
    "        print(k, v) "
   ]
  },
  {
   "cell_type": "code",
   "execution_count": null,
   "id": "d3afdc55",
   "metadata": {},
   "outputs": [],
   "source": []
  }
 ],
 "metadata": {
  "kernelspec": {
   "display_name": "Python 3 (ipykernel)",
   "language": "python",
   "name": "python3"
  },
  "language_info": {
   "codemirror_mode": {
    "name": "ipython",
    "version": 3
   },
   "file_extension": ".py",
   "mimetype": "text/x-python",
   "name": "python",
   "nbconvert_exporter": "python",
   "pygments_lexer": "ipython3",
   "version": "3.11.4"
  }
 },
 "nbformat": 4,
 "nbformat_minor": 5
}
